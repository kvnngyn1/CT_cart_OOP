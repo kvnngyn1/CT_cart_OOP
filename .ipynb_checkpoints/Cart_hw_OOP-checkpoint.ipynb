{
 "cells": [
  {
   "cell_type": "markdown",
   "id": "5c286be1",
   "metadata": {},
   "source": [
    "### Turn the shopping cart program from yesterday into an object-oriented program"
   ]
  },
  {
   "cell_type": "code",
   "execution_count": null,
   "id": "b273c2ff",
   "metadata": {},
   "outputs": [],
   "source": [
    "Functional version"
   ]
  },
  {
   "cell_type": "code",
   "execution_count": null,
   "id": "95ef213f",
   "metadata": {},
   "outputs": [
    {
     "name": "stdout",
     "output_type": "stream",
     "text": [
      "Type 'add' to add items to your cart.\n",
      "Type 'remove' to remove items from your cart.\n",
      "Type 'clear' to remove all items from your cart.\n",
      "Type 'quit' to exit the program.\n",
      "============================================================\n",
      "You have no items in the cart.\n",
      "============================================================\n"
     ]
    }
   ],
   "source": [
    "from IPython.display import clear_output\n",
    "\n",
    "def show_instructions():\n",
    "    print(\"\"\"Type 'add' to add items to your cart.\n",
    "Type 'remove' to remove items from your cart.\n",
    "Type 'clear' to remove all items from your cart.\n",
    "Type 'quit' to exit the program.\"\"\")\n",
    "    print('=' * 60)\n",
    "\n",
    "def add_item(shopping_cart, store_item):\n",
    "    shopping_cart.append(store_item)\n",
    "    \n",
    "def remove_item(shopping_cart, cart_item):\n",
    "    shopping_cart.remove(cart_item)\n",
    "\n",
    "def clear_items(shopping_cart):\n",
    "    shopping_cart.clear()\n",
    "    \n",
    "def show_cart_items(shopping_cart):\n",
    "    my_unique_cart = list(set(shopping_cart))\n",
    "    \n",
    "    if shopping_cart:\n",
    "        for i in range(len(my_unique_cart)):\n",
    "            print(f'{i+1}: {my_unique_cart[i]} [{shopping_cart.count(my_unique_cart[i])}]')\n",
    "    else:\n",
    "        print('You have no items in the cart.')\n",
    "    print('=' * 60)\n",
    "\n",
    "def shopping_cart():\n",
    "    cart = []\n",
    "    \n",
    "    print(\"Welcome to PyShop!\")\n",
    "    print('=' * 60)\n",
    "    \n",
    "    done = False\n",
    "    while not done:\n",
    "        clear_output()\n",
    "        show_instructions()\n",
    "        show_cart_items(cart)\n",
    "        decision = input('What would you like to do? ').lower()\n",
    "        \n",
    "        if decision == 'quit':\n",
    "            done = True\n",
    "        elif decision == 'add':\n",
    "            item = input(\"What item would you like to add? \")\n",
    "            add_item(cart, item)\n",
    "            input(\"Press any key to continue\")\n",
    "        elif decision == 'remove':\n",
    "            item = input(\"What item would you like to remove? \")\n",
    "            remove_item(cart, item)\n",
    "            input(\"Press any key to continue\")\n",
    "        elif decision == 'clear':\n",
    "            \n",
    "            confirmed = False\n",
    "            while not confirmed:\n",
    "                clear_output()\n",
    "                confirm = input('Are you sure you want to remove all items from your cart? This cannot be undone. Y/n? ').lower()\n",
    "                \n",
    "                if confirm == 'y':\n",
    "                    clear_items(cart)\n",
    "                    confirmed = True\n",
    "                elif confirm == 'n':\n",
    "                    confirmed = True\n",
    "                    continue\n",
    "                else:\n",
    "                    input('That was an invalid option. Try again. Press any key to continue. ')\n",
    "            input(\"Press any key to continue\")\n",
    "    \n",
    "shopping_cart()"
   ]
  },
  {
   "cell_type": "code",
   "execution_count": 1,
   "id": "c58cf1ba",
   "metadata": {
    "scrolled": true
   },
   "outputs": [
    {
     "ename": "NameError",
     "evalue": "name 'show_cart' is not defined",
     "output_type": "error",
     "traceback": [
      "\u001b[0;31m--------------------------------------------------------------------------\u001b[0m",
      "\u001b[0;31mNameError\u001b[0m                                Traceback (most recent call last)",
      "\u001b[0;32m<ipython-input-1-4d9456a1797a>\u001b[0m in \u001b[0;36m<module>\u001b[0;34m\u001b[0m\n\u001b[1;32m     41\u001b[0m \u001b[0;34m\u001b[0m\u001b[0m\n\u001b[1;32m     42\u001b[0m \u001b[0mcart\u001b[0m \u001b[0;34m=\u001b[0m \u001b[0mCart\u001b[0m\u001b[0;34m(\u001b[0m\u001b[0;34m)\u001b[0m\u001b[0;34m\u001b[0m\u001b[0;34m\u001b[0m\u001b[0m\n\u001b[0;32m---> 43\u001b[0;31m \u001b[0ms\u001b[0m \u001b[0;34m=\u001b[0m \u001b[0mshow_cart\u001b[0m\u001b[0;34m(\u001b[0m\u001b[0;34m)\u001b[0m\u001b[0;34m\u001b[0m\u001b[0;34m\u001b[0m\u001b[0m\n\u001b[0m\u001b[1;32m     44\u001b[0m \u001b[0ms\u001b[0m\u001b[0;34m.\u001b[0m\u001b[0mshow_cart\u001b[0m\u001b[0;34m(\u001b[0m\u001b[0;34m)\u001b[0m\u001b[0;34m\u001b[0m\u001b[0;34m\u001b[0m\u001b[0m\n",
      "\u001b[0;31mNameError\u001b[0m: name 'show_cart' is not defined"
     ]
    }
   ],
   "source": [
    "from IPython.display import clear_output\n",
    "\n",
    "#OBJECT ORIENTED PROGRAM CART VERSION\n",
    "class Item:\n",
    "    def __init__(self, name, price):\n",
    "        self.name = name\n",
    "        self.price = price\n",
    "        \n",
    "    def __repr__(self):\n",
    "        return f'<Item: {self.name} ${self.price:,.2f}>'\n",
    "        \n",
    "class Cart:\n",
    "    def __init__(self):\n",
    "        self.items = []\n",
    "        \n",
    "    def show_cart(self):\n",
    "        if len(cart.items) == 0:\n",
    "            print('Nothing is in this cart' )\n",
    "        else:\n",
    "            cart.items = item\n",
    "            print('These are in your cart!', cart)\n",
    "\n",
    "    def add_item(self, item):\n",
    "        pass\n",
    "    \n",
    "    def remove_item(self, item):\n",
    "        pass\n",
    "\n",
    "    def clear_items(self, item):\n",
    "        pass\n",
    "\n",
    "    def checkout(self, item):\n",
    "        pass\n",
    "    \n",
    "i1 = Item(\"oranges\", 2.50 )\n",
    "i2 = Item(\"apples\", 2.50 )\n",
    "i3 = Item(\"milk\", 5.00 )\n",
    "i4 = Item(\"cereal\", 5.00 )\n",
    "i5 = Item(\"Coding4dummies\", 50.00 )\n",
    "i6 = Item(\"eggs\", 2.00 )\n",
    "\n",
    "cart = Cart()"
   ]
  },
  {
   "cell_type": "code",
   "execution_count": null,
   "id": "f4805de6",
   "metadata": {},
   "outputs": [],
   "source": []
  },
  {
   "cell_type": "code",
   "execution_count": null,
   "id": "7046f172",
   "metadata": {},
   "outputs": [],
   "source": []
  },
  {
   "cell_type": "code",
   "execution_count": null,
   "id": "6aa45824",
   "metadata": {},
   "outputs": [],
   "source": []
  },
  {
   "cell_type": "code",
   "execution_count": null,
   "id": "3f56046f",
   "metadata": {},
   "outputs": [],
   "source": []
  },
  {
   "cell_type": "code",
   "execution_count": null,
   "id": "70eff5d5",
   "metadata": {},
   "outputs": [],
   "source": []
  },
  {
   "cell_type": "code",
   "execution_count": null,
   "id": "0f7687aa",
   "metadata": {},
   "outputs": [],
   "source": []
  },
  {
   "cell_type": "code",
   "execution_count": null,
   "id": "ef22fbda",
   "metadata": {},
   "outputs": [],
   "source": []
  }
 ],
 "metadata": {
  "kernelspec": {
   "display_name": "Python 3",
   "language": "python",
   "name": "python3"
  },
  "language_info": {
   "codemirror_mode": {
    "name": "ipython",
    "version": 3
   },
   "file_extension": ".py",
   "mimetype": "text/x-python",
   "name": "python",
   "nbconvert_exporter": "python",
   "pygments_lexer": "ipython3",
   "version": "3.9.6"
  }
 },
 "nbformat": 4,
 "nbformat_minor": 5
}
